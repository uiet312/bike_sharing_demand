{
 "cells": [
  {
   "cell_type": "markdown",
   "id": "a86ff2dd-c923-4097-a563-081346aa601f",
   "metadata": {},
   "source": [
    "# 라이브러리 불러오기"
   ]
  },
  {
   "cell_type": "code",
   "execution_count": 1,
   "id": "aabe10ee-b0c2-4e0d-b538-f182b50c9dc6",
   "metadata": {},
   "outputs": [],
   "source": [
    "import pandas as pd\n",
    "import numpy as np\n",
    "\n",
    "import matplotlib.pyplot as plt\n",
    "import seaborn as sns\n",
    "\n",
    "import warnings\n",
    "warnings.filterwarnings(\"ignore\")"
   ]
  },
  {
   "cell_type": "markdown",
   "id": "7f2b3e43-e07e-4e6f-a958-ed63979b6aef",
   "metadata": {},
   "source": [
    "# 데이터 불러오기"
   ]
  },
  {
   "cell_type": "code",
   "execution_count": 2,
   "id": "3c92189c-a5c0-453a-8da8-2a880045b3ae",
   "metadata": {},
   "outputs": [],
   "source": [
    "train = pd.read_csv('data/train.csv')\n",
    "test = pd.read_csv('data/test.csv')\n",
    "submission = pd.read_csv('data/sampleSubmission.csv')"
   ]
  },
  {
   "cell_type": "markdown",
   "id": "eb4b88e0-e3cb-42e4-ae88-4492cee61fc3",
   "metadata": {},
   "source": [
    "- datetime: hourly date + timestamp\n",
    "- season: 1=봄, 2=여름, 3=가을, 4=겨울\n",
    "- holiday: 1=주말을 제외한 국경일 등의 휴일, 0=휴일이 아닌 날\n",
    "- workingday: 1=주말 및 휴일이 아닌 주중, 0=주말 및 휴일\n",
    "- weather:\n",
    "1=맑음, 약간 구름 낀 흐림\n",
    "2=안개, 안개 + 흐림\n",
    "3=가벼운 눈, 가벼운 비 + 천둥\n",
    "4=심한 눈/비, 천둥/번개\n",
    "- temp: 온도(섭씨)\n",
    "- atemp: 체감온도(섭씨)\n",
    "- humidity: 상대습도\n",
    "- windspeed: 풍속\n",
    "- casual: 사전에 등록되지 않은 사용자가 대여한 횟수\n",
    "- registered: 사전에 등록된 사용자가 대여한 횟수\n",
    "- count: 대여 횟수"
   ]
  },
  {
   "cell_type": "code",
   "execution_count": 3,
   "id": "19e3691f-f4b3-4ee8-9c6b-ab3cc0a9bc47",
   "metadata": {},
   "outputs": [
    {
     "data": {
      "text/plain": [
       "((10886, 12), (6493, 9))"
      ]
     },
     "execution_count": 3,
     "metadata": {},
     "output_type": "execute_result"
    }
   ],
   "source": [
    "train.shape, test.shape"
   ]
  },
  {
   "cell_type": "code",
   "execution_count": 4,
   "id": "51ecbb5f-7b47-403e-bcca-2391fe41216e",
   "metadata": {},
   "outputs": [
    {
     "name": "stdout",
     "output_type": "stream",
     "text": [
      "<class 'pandas.core.frame.DataFrame'>\n",
      "RangeIndex: 10886 entries, 0 to 10885\n",
      "Data columns (total 12 columns):\n",
      " #   Column      Non-Null Count  Dtype  \n",
      "---  ------      --------------  -----  \n",
      " 0   datetime    10886 non-null  object \n",
      " 1   season      10886 non-null  int64  \n",
      " 2   holiday     10886 non-null  int64  \n",
      " 3   workingday  10886 non-null  int64  \n",
      " 4   weather     10886 non-null  int64  \n",
      " 5   temp        10886 non-null  float64\n",
      " 6   atemp       10886 non-null  float64\n",
      " 7   humidity    10886 non-null  int64  \n",
      " 8   windspeed   10886 non-null  float64\n",
      " 9   casual      10886 non-null  int64  \n",
      " 10  registered  10886 non-null  int64  \n",
      " 11  count       10886 non-null  int64  \n",
      "dtypes: float64(3), int64(8), object(1)\n",
      "memory usage: 1020.7+ KB\n",
      "<class 'pandas.core.frame.DataFrame'>\n",
      "RangeIndex: 6493 entries, 0 to 6492\n",
      "Data columns (total 9 columns):\n",
      " #   Column      Non-Null Count  Dtype  \n",
      "---  ------      --------------  -----  \n",
      " 0   datetime    6493 non-null   object \n",
      " 1   season      6493 non-null   int64  \n",
      " 2   holiday     6493 non-null   int64  \n",
      " 3   workingday  6493 non-null   int64  \n",
      " 4   weather     6493 non-null   int64  \n",
      " 5   temp        6493 non-null   float64\n",
      " 6   atemp       6493 non-null   float64\n",
      " 7   humidity    6493 non-null   int64  \n",
      " 8   windspeed   6493 non-null   float64\n",
      "dtypes: float64(3), int64(5), object(1)\n",
      "memory usage: 456.7+ KB\n"
     ]
    },
    {
     "data": {
      "text/plain": [
       "(None, None)"
      ]
     },
     "execution_count": 4,
     "metadata": {},
     "output_type": "execute_result"
    }
   ],
   "source": [
    "train.info(), test.info()"
   ]
  },
  {
   "cell_type": "code",
   "execution_count": 5,
   "id": "1f614621-c8f9-45a5-8607-76884aa6136e",
   "metadata": {},
   "outputs": [
    {
     "data": {
      "text/html": [
       "<div>\n",
       "<style scoped>\n",
       "    .dataframe tbody tr th:only-of-type {\n",
       "        vertical-align: middle;\n",
       "    }\n",
       "\n",
       "    .dataframe tbody tr th {\n",
       "        vertical-align: top;\n",
       "    }\n",
       "\n",
       "    .dataframe thead th {\n",
       "        text-align: right;\n",
       "    }\n",
       "</style>\n",
       "<table border=\"1\" class=\"dataframe\">\n",
       "  <thead>\n",
       "    <tr style=\"text-align: right;\">\n",
       "      <th></th>\n",
       "      <th>datetime</th>\n",
       "      <th>season</th>\n",
       "      <th>holiday</th>\n",
       "      <th>workingday</th>\n",
       "      <th>weather</th>\n",
       "      <th>temp</th>\n",
       "      <th>atemp</th>\n",
       "      <th>humidity</th>\n",
       "      <th>windspeed</th>\n",
       "      <th>casual</th>\n",
       "      <th>registered</th>\n",
       "      <th>count</th>\n",
       "    </tr>\n",
       "  </thead>\n",
       "  <tbody>\n",
       "    <tr>\n",
       "      <th>0</th>\n",
       "      <td>2011-01-01 00:00:00</td>\n",
       "      <td>1</td>\n",
       "      <td>0</td>\n",
       "      <td>0</td>\n",
       "      <td>1</td>\n",
       "      <td>9.84</td>\n",
       "      <td>14.395</td>\n",
       "      <td>81</td>\n",
       "      <td>0.0</td>\n",
       "      <td>3</td>\n",
       "      <td>13</td>\n",
       "      <td>16</td>\n",
       "    </tr>\n",
       "    <tr>\n",
       "      <th>1</th>\n",
       "      <td>2011-01-01 01:00:00</td>\n",
       "      <td>1</td>\n",
       "      <td>0</td>\n",
       "      <td>0</td>\n",
       "      <td>1</td>\n",
       "      <td>9.02</td>\n",
       "      <td>13.635</td>\n",
       "      <td>80</td>\n",
       "      <td>0.0</td>\n",
       "      <td>8</td>\n",
       "      <td>32</td>\n",
       "      <td>40</td>\n",
       "    </tr>\n",
       "    <tr>\n",
       "      <th>2</th>\n",
       "      <td>2011-01-01 02:00:00</td>\n",
       "      <td>1</td>\n",
       "      <td>0</td>\n",
       "      <td>0</td>\n",
       "      <td>1</td>\n",
       "      <td>9.02</td>\n",
       "      <td>13.635</td>\n",
       "      <td>80</td>\n",
       "      <td>0.0</td>\n",
       "      <td>5</td>\n",
       "      <td>27</td>\n",
       "      <td>32</td>\n",
       "    </tr>\n",
       "    <tr>\n",
       "      <th>3</th>\n",
       "      <td>2011-01-01 03:00:00</td>\n",
       "      <td>1</td>\n",
       "      <td>0</td>\n",
       "      <td>0</td>\n",
       "      <td>1</td>\n",
       "      <td>9.84</td>\n",
       "      <td>14.395</td>\n",
       "      <td>75</td>\n",
       "      <td>0.0</td>\n",
       "      <td>3</td>\n",
       "      <td>10</td>\n",
       "      <td>13</td>\n",
       "    </tr>\n",
       "    <tr>\n",
       "      <th>4</th>\n",
       "      <td>2011-01-01 04:00:00</td>\n",
       "      <td>1</td>\n",
       "      <td>0</td>\n",
       "      <td>0</td>\n",
       "      <td>1</td>\n",
       "      <td>9.84</td>\n",
       "      <td>14.395</td>\n",
       "      <td>75</td>\n",
       "      <td>0.0</td>\n",
       "      <td>0</td>\n",
       "      <td>1</td>\n",
       "      <td>1</td>\n",
       "    </tr>\n",
       "  </tbody>\n",
       "</table>\n",
       "</div>"
      ],
      "text/plain": [
       "              datetime  season  holiday  workingday  weather  temp   atemp  \\\n",
       "0  2011-01-01 00:00:00       1        0           0        1  9.84  14.395   \n",
       "1  2011-01-01 01:00:00       1        0           0        1  9.02  13.635   \n",
       "2  2011-01-01 02:00:00       1        0           0        1  9.02  13.635   \n",
       "3  2011-01-01 03:00:00       1        0           0        1  9.84  14.395   \n",
       "4  2011-01-01 04:00:00       1        0           0        1  9.84  14.395   \n",
       "\n",
       "   humidity  windspeed  casual  registered  count  \n",
       "0        81        0.0       3          13     16  \n",
       "1        80        0.0       8          32     40  \n",
       "2        80        0.0       5          27     32  \n",
       "3        75        0.0       3          10     13  \n",
       "4        75        0.0       0           1      1  "
      ]
     },
     "execution_count": 5,
     "metadata": {},
     "output_type": "execute_result"
    }
   ],
   "source": [
    "train.head()"
   ]
  },
  {
   "cell_type": "markdown",
   "id": "2235b9cd-f1c7-4d17-aada-7a5d72d78648",
   "metadata": {},
   "source": [
    "# 데이터 탐색(EDA)"
   ]
  },
  {
   "cell_type": "code",
   "execution_count": 6,
   "id": "73eec360-fefd-4324-bff2-745a6d066f80",
   "metadata": {},
   "outputs": [
    {
     "data": {
      "text/plain": [
       "<AxesSubplot:ylabel='Frequency'>"
      ]
     },
     "execution_count": 6,
     "metadata": {},
     "output_type": "execute_result"
    },
    {
     "data": {
      "image/png": "[encoded data removed]",
      "text/plain": [
       "<Figure size 432x288 with 1 Axes>"
      ]
     },
     "metadata": {
      "needs_background": "light"
     },
     "output_type": "display_data"
    }
   ],
   "source": [
    "train['count'].plot(kind='hist', bins=50)"
   ]
  },
  {
   "cell_type": "markdown",
   "id": "7d9c01c4-463a-49ef-8a05-203bc0c6e8c0",
   "metadata": {},
   "source": [
    "- 예측 타겟(count)이 정규 분포가 아닌 0 ~ 200 사이에 왜곡돼 있는 것으로 확인 됨 \n",
    "- 따라서 로그 변환을 통해 이를 정규 분포 형태로 변환할 것"
   ]
  },
  {
   "cell_type": "code",
   "execution_count": 7,
   "id": "f303ecc4-8b80-4f42-b61c-38e5506344bf",
   "metadata": {},
   "outputs": [
    {
     "data": {
      "text/plain": [
       "<AxesSubplot:ylabel='Frequency'>"
      ]
     },
     "execution_count": 7,
     "metadata": {},
     "output_type": "execute_result"
    },
    {
     "data": {
      "image/png": "[encoded data removed]",
      "text/plain": [
       "<Figure size 432x288 with 1 Axes>"
      ]
     },
     "metadata": {
      "needs_background": "light"
     },
     "output_type": "display_data"
    }
   ],
   "source": [
    "y_log_transform = np.log1p(train['count'])\n",
    "y_log_transform.plot(kind='hist', bins=50)"
   ]
  },
  {
   "cell_type": "markdown",
   "id": "2ee1b50f-82a4-405e-94e1-13048b59ec1b",
   "metadata": {},
   "source": [
    "- 로그 변환후 확인해보니 정규 분포 형태를 띄는것을 확인할 수 있음"
   ]
  },
  {
   "cell_type": "code",
   "execution_count": 8,
   "id": "a21b98d4-04c1-49ee-a058-2d0ac443b15e",
   "metadata": {},
   "outputs": [
    {
     "data": {
      "image/png": "[encoded data removed]",
      "text/plain": [
       "<Figure size 1440x720 with 2 Axes>"
      ]
     },
     "metadata": {
      "needs_background": "light"
     },
     "output_type": "display_data"
    }
   ],
   "source": [
    "cols = [\"temp\", \"atemp\", \"casual\", \"registered\", \"humidity\", \"windspeed\", \"count\"]\n",
    "corr = train[cols].corr(method='pearson')\n",
    "corr.values\n",
    "\n",
    "# 우선 fig를 통해서 차트의 크기를 조정\n",
    "fig, ax = plt.subplots()\n",
    "fig.set_size_inches(20,10)\n",
    "\n",
    "# 위에서 얻은 ax값을 ax의 인자값으로 넣는다. ax=ax\n",
    "sns.set(font_scale=1.5)\n",
    "hm = sns.heatmap(corr.values,\n",
    "            cbar=True,\n",
    "            annot=True, \n",
    "            square=True,\n",
    "            fmt='.2f',\n",
    "            annot_kws={'size': 15},\n",
    "            yticklabels=cols,\n",
    "            xticklabels=cols,\n",
    "            ax=ax)\n",
    "\n",
    "plt.tight_layout()\n",
    "plt.show()"
   ]
  },
  {
   "cell_type": "code",
   "execution_count": 9,
   "id": "fd929658-6cc5-451f-9025-4fde507da094",
   "metadata": {},
   "outputs": [
    {
     "data": {
      "text/plain": [
       "season        0.163439\n",
       "holiday      -0.005393\n",
       "workingday    0.011594\n",
       "weather      -0.128655\n",
       "temp          0.394454\n",
       "atemp         0.389784\n",
       "humidity     -0.317371\n",
       "windspeed     0.101369\n",
       "casual        0.690414\n",
       "registered    0.970948\n",
       "count         1.000000\n",
       "Name: count, dtype: float64"
      ]
     },
     "execution_count": 9,
     "metadata": {},
     "output_type": "execute_result"
    }
   ],
   "source": [
    "train.corr()['count']"
   ]
  },
  {
   "cell_type": "markdown",
   "id": "b270a579-6130-4088-b4c4-0d3d1a505fb0",
   "metadata": {},
   "source": [
    "- 전반적으로 피처들의 상관관계가 낮은 경향이 있음.\n",
    "- casual, registered는 상관관계는 높지만 test 데이터에 존재하지 않아 예측에 사용하기는 어렵다.\n",
    "- atemp, temp는 0.98로 매우 높은 상관관계를 보이지만, 사실살 같은 의미를 가진 데이터로 보이고, 다중공선성의 문제가 있는것으로 보인다."
   ]
  },
  {
   "cell_type": "markdown",
   "id": "45fd5775-d19d-4f16-aaf2-f9542e7ddc8b",
   "metadata": {},
   "source": [
    "# 데이터 전처리"
   ]
  },
  {
   "cell_type": "code",
   "execution_count": 10,
   "id": "08294384-b652-45d9-8e53-de738946cb43",
   "metadata": {},
   "outputs": [],
   "source": [
    "# datetime -> year, month, day, hout 로 세분화\n",
    "\n",
    "train['datetime'] = train.datetime.apply(pd.to_datetime)\n",
    "\n",
    "train[\"year\"] = train[\"datetime\"].dt.year # 연\n",
    "train[\"month\"] = train[\"datetime\"].dt.month # 월\n",
    "train[\"day\"] = train[\"datetime\"].dt.day # 일\n",
    "train[\"hour\"] = train[\"datetime\"].dt.hour # 시간"
   ]
  },
  {
   "cell_type": "code",
   "execution_count": 11,
   "id": "cc13f92f-d93d-426a-8ad0-84d29521666a",
   "metadata": {},
   "outputs": [],
   "source": [
    "# 데이터 수기보완 : holiday, workingday 피처에 데이터 오류가 발견되어 이를 수정\n",
    "\n",
    "dt = pd.DatetimeIndex(train['datetime'])\n",
    "train.set_index(dt, inplace=True)\n",
    "dtt = pd.DatetimeIndex(test['datetime'])\n",
    "test.set_index(dtt, inplace=True)\n",
    "def get_day(day_start):\n",
    "    day_end = day_start + pd.offsets.DateOffset(hours=23)\n",
    "    return pd.date_range(day_start, day_end, freq=\"H\")\n",
    "\n",
    "train.loc[get_day(pd.datetime(2011, 4, 15)), \"workingday\"] = 1\n",
    "train.loc[get_day(pd.datetime(2012, 4, 16)), \"workingday\"] = 1\n",
    "train.loc[get_day(pd.datetime(2011, 4, 15)), \"holiday\"] = 0\n",
    "train.loc[get_day(pd.datetime(2012, 4, 16)), \"holiday\"] = 0\n",
    "train.loc[get_day(pd.datetime(2012, 6, 1)), \"holiday\"] = 1"
   ]
  },
  {
   "cell_type": "code",
   "execution_count": 12,
   "id": "f6aa4750-8474-41e7-8493-a1202bf8e792",
   "metadata": {},
   "outputs": [],
   "source": [
    "# 로그변환\n",
    "\n",
    "train['count'] = np.log1p(train['count'])"
   ]
  },
  {
   "cell_type": "code",
   "execution_count": 13,
   "id": "7208af24-8135-45ad-930b-6040a06d90b4",
   "metadata": {},
   "outputs": [],
   "source": [
    "# 원핫 인코딩(pd.get_dumies)\n",
    "\n",
    "train = pd.get_dummies(train, columns = ['holiday', 'workingday', 'season', 'weather'])"
   ]
  },
  {
   "cell_type": "code",
   "execution_count": 14,
   "id": "129ab120-d1d9-40cc-825b-ed7db4c924fc",
   "metadata": {},
   "outputs": [],
   "source": [
    "# 데이터 분할(타겟 데이터 설정)\n",
    "\n",
    "train_df = train.drop(['datetime','casual','registered','temp'], axis=1)\n",
    "X_train = train_df.drop('count', axis=1)\n",
    "y_train = train_df['count']"
   ]
  },
  {
   "cell_type": "markdown",
   "id": "ee562ae0-c03d-44d6-b883-dafe1210e0dd",
   "metadata": {},
   "source": [
    "# 모델링"
   ]
  },
  {
   "cell_type": "code",
   "execution_count": 15,
   "id": "5e92986f-7fed-4fe7-9e50-c6a903cdf7c8",
   "metadata": {},
   "outputs": [
    {
     "data": {
      "text/plain": [
       "0.49590808891954796"
      ]
     },
     "execution_count": 15,
     "metadata": {},
     "output_type": "execute_result"
    }
   ],
   "source": [
    "from sklearn.linear_model import LinearRegression\n",
    "\n",
    "lr_reg = LinearRegression()\n",
    "\n",
    "lr_reg.fit(X_train, y_train)\n",
    "lr_reg.score(X_train, y_train)"
   ]
  },
  {
   "cell_type": "code",
   "execution_count": 16,
   "id": "802139e6-c1ce-45cd-9ead-a06152304a3f",
   "metadata": {},
   "outputs": [
    {
     "data": {
      "text/plain": [
       "0.9930492200465466"
      ]
     },
     "execution_count": 16,
     "metadata": {},
     "output_type": "execute_result"
    }
   ],
   "source": [
    "from sklearn.ensemble import RandomForestRegressor\n",
    "\n",
    "rf_reg = RandomForestRegressor()\n",
    "\n",
    "rf_reg.fit(X_train, y_train)\n",
    "rf_reg.score(X_train, y_train)"
   ]
  },
  {
   "cell_type": "code",
   "execution_count": null,
   "id": "01f78a6a-3421-4e89-a3b8-384b42f7cfb0",
   "metadata": {},
   "outputs": [],
   "source": []
  },
  {
   "cell_type": "code",
   "execution_count": null,
   "id": "604425f8-d7be-4f9a-8b68-fc29d67eb719",
   "metadata": {},
   "outputs": [],
   "source": []
  },
  {
   "cell_type": "markdown",
   "id": "450bd1a9-e8a5-4866-82c5-23777ca64acc",
   "metadata": {},
   "source": [
    "# 모델 튜닝"
   ]
  },
  {
   "cell_type": "code",
   "execution_count": 31,
   "id": "8b95945e-6fda-401f-b32b-294a6451c299",
   "metadata": {},
   "outputs": [
    {
     "data": {
      "text/html": [
       "<style>#sk-container-id-2 {color: black;background-color: white;}#sk-container-id-2 pre{padding: 0;}#sk-container-id-2 div.sk-toggleable {background-color: white;}#sk-container-id-2 label.sk-toggleable__label {cursor: pointer;display: block;width: 100%;margin-bottom: 0;padding: 0.3em;box-sizing: border-box;text-align: center;}#sk-container-id-2 label.sk-toggleable__label-arrow:before {content: \"▸\";float: left;margin-right: 0.25em;color: #696969;}#sk-container-id-2 label.sk-toggleable__label-arrow:hover:before {color: black;}#sk-container-id-2 div.sk-estimator:hover label.sk-toggleable__label-arrow:before {color: black;}#sk-container-id-2 div.sk-toggleable__content {max-height: 0;max-width: 0;overflow: hidden;text-align: left;background-color: #f0f8ff;}#sk-container-id-2 div.sk-toggleable__content pre {margin: 0.2em;color: black;border-radius: 0.25em;background-color: #f0f8ff;}#sk-container-id-2 input.sk-toggleable__control:checked~div.sk-toggleable__content {max-height: 200px;max-width: 100%;overflow: auto;}#sk-container-id-2 input.sk-toggleable__control:checked~label.sk-toggleable__label-arrow:before {content: \"▾\";}#sk-container-id-2 div.sk-estimator input.sk-toggleable__control:checked~label.sk-toggleable__label {background-color: #d4ebff;}#sk-container-id-2 div.sk-label input.sk-toggleable__control:checked~label.sk-toggleable__label {background-color: #d4ebff;}#sk-container-id-2 input.sk-hidden--visually {border: 0;clip: rect(1px 1px 1px 1px);clip: rect(1px, 1px, 1px, 1px);height: 1px;margin: -1px;overflow: hidden;padding: 0;position: absolute;width: 1px;}#sk-container-id-2 div.sk-estimator {font-family: monospace;background-color: #f0f8ff;border: 1px dotted black;border-radius: 0.25em;box-sizing: border-box;margin-bottom: 0.5em;}#sk-container-id-2 div.sk-estimator:hover {background-color: #d4ebff;}#sk-container-id-2 div.sk-parallel-item::after {content: \"\";width: 100%;border-bottom: 1px solid gray;flex-grow: 1;}#sk-container-id-2 div.sk-label:hover label.sk-toggleable__label {background-color: #d4ebff;}#sk-container-id-2 div.sk-serial::before {content: \"\";position: absolute;border-left: 1px solid gray;box-sizing: border-box;top: 0;bottom: 0;left: 50%;z-index: 0;}#sk-container-id-2 div.sk-serial {display: flex;flex-direction: column;align-items: center;background-color: white;padding-right: 0.2em;padding-left: 0.2em;position: relative;}#sk-container-id-2 div.sk-item {position: relative;z-index: 1;}#sk-container-id-2 div.sk-parallel {display: flex;align-items: stretch;justify-content: center;background-color: white;position: relative;}#sk-container-id-2 div.sk-item::before, #sk-container-id-2 div.sk-parallel-item::before {content: \"\";position: absolute;border-left: 1px solid gray;box-sizing: border-box;top: 0;bottom: 0;left: 50%;z-index: -1;}#sk-container-id-2 div.sk-parallel-item {display: flex;flex-direction: column;z-index: 1;position: relative;background-color: white;}#sk-container-id-2 div.sk-parallel-item:first-child::after {align-self: flex-end;width: 50%;}#sk-container-id-2 div.sk-parallel-item:last-child::after {align-self: flex-start;width: 50%;}#sk-container-id-2 div.sk-parallel-item:only-child::after {width: 0;}#sk-container-id-2 div.sk-dashed-wrapped {border: 1px dashed gray;margin: 0 0.4em 0.5em 0.4em;box-sizing: border-box;padding-bottom: 0.4em;background-color: white;}#sk-container-id-2 div.sk-label label {font-family: monospace;font-weight: bold;display: inline-block;line-height: 1.2em;}#sk-container-id-2 div.sk-label-container {text-align: center;}#sk-container-id-2 div.sk-container {/* jupyter's `normalize.less` sets `[hidden] { display: none; }` but bootstrap.min.css set `[hidden] { display: none !important; }` so we also need the `!important` here to be able to override the default hidden behavior on the sphinx rendered scikit-learn.org. See: https://github.com/scikit-learn/scikit-learn/issues/21755 */display: inline-block !important;position: relative;}#sk-container-id-2 div.sk-text-repr-fallback {display: none;}</style><div id=\"sk-container-id-2\" class=\"sk-top-container\"><div class=\"sk-text-repr-fallback\"><pre>RandomizedSearchCV(cv=5, estimator=RandomForestRegressor(random_state=42),\n",
       "                   n_jobs=-1,\n",
       "                   param_distributions={&#x27;max_features&#x27;: &lt;scipy.stats._distn_infrastructure.rv_frozen object at 0x000002020971BFD0&gt;,\n",
       "                                        &#x27;min_samples_leaf&#x27;: &lt;scipy.stats._distn_infrastructure.rv_frozen object at 0x0000020209D192E0&gt;,\n",
       "                                        &#x27;min_samples_split&#x27;: &lt;scipy.stats._distn_infrastructure.rv_frozen object at 0x0000020209CAE820&gt;,\n",
       "                                        &#x27;n_estimators&#x27;: &lt;scipy.stats._distn_infrastructure.rv_frozen object at 0x000002020971B160&gt;},\n",
       "                   random_state=42, scoring=&#x27;neg_root_mean_squared_error&#x27;)</pre><b>In a Jupyter environment, please rerun this cell to show the HTML representation or trust the notebook. <br />On GitHub, the HTML representation is unable to render, please try loading this page with nbviewer.org.</b></div><div class=\"sk-container\" hidden><div class=\"sk-item sk-dashed-wrapped\"><div class=\"sk-label-container\"><div class=\"sk-label sk-toggleable\"><input class=\"sk-toggleable__control sk-hidden--visually\" id=\"sk-estimator-id-4\" type=\"checkbox\" ><label for=\"sk-estimator-id-4\" class=\"sk-toggleable__label sk-toggleable__label-arrow\">RandomizedSearchCV</label><div class=\"sk-toggleable__content\"><pre>RandomizedSearchCV(cv=5, estimator=RandomForestRegressor(random_state=42),\n",
       "                   n_jobs=-1,\n",
       "                   param_distributions={&#x27;max_features&#x27;: &lt;scipy.stats._distn_infrastructure.rv_frozen object at 0x000002020971BFD0&gt;,\n",
       "                                        &#x27;min_samples_leaf&#x27;: &lt;scipy.stats._distn_infrastructure.rv_frozen object at 0x0000020209D192E0&gt;,\n",
       "                                        &#x27;min_samples_split&#x27;: &lt;scipy.stats._distn_infrastructure.rv_frozen object at 0x0000020209CAE820&gt;,\n",
       "                                        &#x27;n_estimators&#x27;: &lt;scipy.stats._distn_infrastructure.rv_frozen object at 0x000002020971B160&gt;},\n",
       "                   random_state=42, scoring=&#x27;neg_root_mean_squared_error&#x27;)</pre></div></div></div><div class=\"sk-parallel\"><div class=\"sk-parallel-item\"><div class=\"sk-item\"><div class=\"sk-label-container\"><div class=\"sk-label sk-toggleable\"><input class=\"sk-toggleable__control sk-hidden--visually\" id=\"sk-estimator-id-5\" type=\"checkbox\" ><label for=\"sk-estimator-id-5\" class=\"sk-toggleable__label sk-toggleable__label-arrow\">estimator: RandomForestRegressor</label><div class=\"sk-toggleable__content\"><pre>RandomForestRegressor(random_state=42)</pre></div></div></div><div class=\"sk-serial\"><div class=\"sk-item\"><div class=\"sk-estimator sk-toggleable\"><input class=\"sk-toggleable__control sk-hidden--visually\" id=\"sk-estimator-id-6\" type=\"checkbox\" ><label for=\"sk-estimator-id-6\" class=\"sk-toggleable__label sk-toggleable__label-arrow\">RandomForestRegressor</label><div class=\"sk-toggleable__content\"><pre>RandomForestRegressor(random_state=42)</pre></div></div></div></div></div></div></div></div></div></div>"
      ],
      "text/plain": [
       "RandomizedSearchCV(cv=5, estimator=RandomForestRegressor(random_state=42),\n",
       "                   n_jobs=-1,\n",
       "                   param_distributions={'max_features': <scipy.stats._distn_infrastructure.rv_frozen object at 0x000002020971BFD0>,\n",
       "                                        'min_samples_leaf': <scipy.stats._distn_infrastructure.rv_frozen object at 0x0000020209D192E0>,\n",
       "                                        'min_samples_split': <scipy.stats._distn_infrastructure.rv_frozen object at 0x0000020209CAE820>,\n",
       "                                        'n_estimators': <scipy.stats._distn_infrastructure.rv_frozen object at 0x000002020971B160>},\n",
       "                   random_state=42, scoring='neg_root_mean_squared_error')"
      ]
     },
     "execution_count": 31,
     "metadata": {},
     "output_type": "execute_result"
    }
   ],
   "source": [
    "from sklearn.model_selection import RandomizedSearchCV\n",
    "from scipy.stats  import randint\n",
    "\n",
    "param_distribs = { \n",
    "    'n_estimators' : randint(low=1, high=200),\n",
    "    'max_features' : randint(low=1, high=8),\n",
    "    'min_samples_leaf' : randint(low=1, high=18),\n",
    "    'min_samples_split' : randint(low=1, high=20)\n",
    "}\n",
    "\n",
    "forest_reg = RandomForestRegressor(random_state=42)\n",
    "\n",
    "rnd_search = RandomizedSearchCV(forest_reg, param_distribs, n_iter=10, cv=5, # 10 x 5\n",
    "                                scoring=\"neg_root_mean_squared_error\", random_state=42, n_jobs=-1)\n",
    "rnd_search.fit(X_train, y_train)"
   ]
  },
  {
   "cell_type": "code",
   "execution_count": 32,
   "id": "1c6fff87-0444-4465-ae0e-e023bc7e362c",
   "metadata": {},
   "outputs": [
    {
     "data": {
      "text/plain": [
       "{'max_features': 7,\n",
       " 'min_samples_leaf': 3,\n",
       " 'min_samples_split': 5,\n",
       " 'n_estimators': 51}"
      ]
     },
     "execution_count": 32,
     "metadata": {},
     "output_type": "execute_result"
    }
   ],
   "source": [
    "rnd_search.best_params_"
   ]
  },
  {
   "cell_type": "code",
   "execution_count": 33,
   "id": "fb3c391d-012b-45a5-8e64-e1b56155f860",
   "metadata": {},
   "outputs": [
    {
     "name": "stdout",
     "output_type": "stream",
     "text": [
      "0.7520970039653507 {'max_features': 7, 'min_samples_leaf': 15, 'min_samples_split': 11, 'n_estimators': 72}\n",
      "0.7737206503768602 {'max_features': 5, 'min_samples_leaf': 7, 'min_samples_split': 19, 'n_estimators': 75}\n",
      "0.8169746083467642 {'max_features': 3, 'min_samples_leaf': 4, 'min_samples_split': 8, 'n_estimators': 152}\n",
      "0.8109869237188853 {'max_features': 3, 'min_samples_leaf': 2, 'min_samples_split': 12, 'n_estimators': 158}\n",
      "nan {'max_features': 6, 'min_samples_leaf': 2, 'min_samples_split': 1, 'n_estimators': 58}\n",
      "0.7595835977528286 {'max_features': 6, 'min_samples_leaf': 12, 'min_samples_split': 17, 'n_estimators': 59}\n",
      "0.7518087772455844 {'max_features': 7, 'min_samples_leaf': 10, 'min_samples_split': 16, 'n_estimators': 15}\n",
      "0.7693022380588801 {'max_features': 6, 'min_samples_leaf': 15, 'min_samples_split': 19, 'n_estimators': 108}\n",
      "0.7098499462559459 {'max_features': 7, 'min_samples_leaf': 3, 'min_samples_split': 5, 'n_estimators': 51}\n",
      "0.7365978566296691 {'max_features': 7, 'min_samples_leaf': 9, 'min_samples_split': 7, 'n_estimators': 18}\n"
     ]
    }
   ],
   "source": [
    "cvres = rnd_search.cv_results_\n",
    "\n",
    "for mean_score, params in zip(cvres['mean_test_score'], cvres['params']):\n",
    "  print(np.sqrt(-mean_score), params)"
   ]
  },
  {
   "cell_type": "code",
   "execution_count": 18,
   "id": "75737c39-2a84-4545-a92c-e9a80df0f66e",
   "metadata": {},
   "outputs": [
    {
     "data": {
      "text/plain": [
       "{'max_features': 7, 'n_estimators': 75}"
      ]
     },
     "execution_count": 18,
     "metadata": {},
     "output_type": "execute_result"
    }
   ],
   "source": [
    "rnd_search.best_params_"
   ]
  },
  {
   "cell_type": "code",
   "execution_count": 19,
   "id": "7b8202c7-0cce-4a6a-9faf-f90c75caf416",
   "metadata": {},
   "outputs": [
    {
     "name": "stdout",
     "output_type": "stream",
     "text": [
      "0.7007226383231303 {'max_features': 7, 'n_estimators': 52}\n",
      "0.7410524711712247 {'max_features': 5, 'n_estimators': 15}\n",
      "0.7916753139385713 {'max_features': 3, 'n_estimators': 72}\n",
      "0.7344905479530162 {'max_features': 5, 'n_estimators': 21}\n",
      "0.6987858383614431 {'max_features': 7, 'n_estimators': 83}\n",
      "0.6983104543722881 {'max_features': 7, 'n_estimators': 75}\n",
      "0.7888998110465185 {'max_features': 3, 'n_estimators': 88}\n",
      "0.7314350320758337 {'max_features': 5, 'n_estimators': 24}\n",
      "0.8064559922698378 {'max_features': 3, 'n_estimators': 22}\n",
      "0.855845278329009 {'max_features': 5, 'n_estimators': 2}\n"
     ]
    }
   ],
   "source": [
    "cvres = rnd_search.cv_results_\n",
    "\n",
    "for mean_score, params in zip(cvres['mean_test_score'], cvres['params']):\n",
    "  print(np.sqrt(-mean_score), params)"
   ]
  },
  {
   "cell_type": "code",
   "execution_count": 20,
   "id": "65c6527d-f809-4207-a157-a3379ea66ae8",
   "metadata": {},
   "outputs": [],
   "source": [
    "final_model = rnd_search.best_estimator_"
   ]
  },
  {
   "cell_type": "markdown",
   "id": "5b6c8194-60ea-4149-898d-498df75b201e",
   "metadata": {},
   "source": [
    "# 예측\n"
   ]
  },
  {
   "cell_type": "code",
   "execution_count": 21,
   "id": "60c59754-f4aa-44ca-8e82-c577afa035c2",
   "metadata": {},
   "outputs": [],
   "source": [
    "# 예측 test데이터 세트 생성\n",
    "\n",
    "test['datetime'] = test.datetime.apply(pd.to_datetime)\n",
    "\n",
    "test[\"year\"] = test[\"datetime\"].dt.year # 연\n",
    "test[\"month\"] = test[\"datetime\"].dt.month # 월\n",
    "test[\"day\"] = test[\"datetime\"].dt.day # 일\n",
    "test[\"hour\"] = test[\"datetime\"].dt.hour # 시간\n",
    "\n",
    "test.loc[get_day(pd.datetime(2011, 11, 25)), \"workingday\"] = 0\n",
    "test.loc[get_day(pd.datetime(2012, 11, 23)), \"workingday\"] = 0\n",
    "test.loc[get_day(pd.datetime(2011, 12, 24)), \"workingday\"] = 0\n",
    "test.loc[get_day(pd.datetime(2011, 12, 31)), \"workingday\"] = 0\n",
    "test.loc[get_day(pd.datetime(2012, 12, 26)), \"workingday\"] = 0\n",
    "test.loc[get_day(pd.datetime(2012, 12, 31)), \"workingday\"] = 0\n",
    "test.loc[get_day(pd.datetime(2011, 11, 25)), \"holiday\"] = 1\n",
    "test.loc[get_day(pd.datetime(2012, 11, 23)), \"holiday\"] = 1\n",
    "test.loc[get_day(pd.datetime(2011, 12, 24)), \"holiday\"] = 1\n",
    "test.loc[get_day(pd.datetime(2011, 12, 31)), \"holiday\"] = 1\n",
    "test.loc[get_day(pd.datetime(2012, 12, 31)), \"holiday\"] = 1\n",
    "test.loc[get_day(pd.datetime(2012, 5, 21)), \"holiday\"] = 1\n",
    "\n",
    "test = pd.get_dummies(test, columns = ['holiday', 'workingday', 'season', 'weather'])\n",
    "\n",
    "\n",
    "X_test = test.drop(['datetime','temp'], axis=1)"
   ]
  },
  {
   "cell_type": "code",
   "execution_count": 25,
   "id": "4b19d7df-0b11-498b-bedf-24a8c5890750",
   "metadata": {},
   "outputs": [
    {
     "data": {
      "text/plain": [
       "array([10.15723363,  6.38170061,  4.60872151, ..., 97.02351731,\n",
       "       87.62744236, 62.24533602])"
      ]
     },
     "execution_count": 25,
     "metadata": {},
     "output_type": "execute_result"
    }
   ],
   "source": [
    "# 튜닝된 파라미터로 예측\n",
    "\n",
    "pred = final_model.predict(X_test)\n",
    "pred = np.expm1(pred)\n",
    "pred"
   ]
  },
  {
   "cell_type": "code",
   "execution_count": 24,
   "id": "c160ddb2-2dd6-4875-83b8-2d0a1e7f32a3",
   "metadata": {},
   "outputs": [
    {
     "data": {
      "text/plain": [
       "array([12.93301273,  5.54570993,  4.14741034, ..., 96.66985562,\n",
       "       99.61476989, 68.4302781 ])"
      ]
     },
     "execution_count": 24,
     "metadata": {},
     "output_type": "execute_result"
    }
   ],
   "source": [
    "# 예측\n",
    "\n",
    "pred = rf_reg.predict(X_test)\n",
    "\n",
    "pred = np.expm1(pred)\n",
    "pred"
   ]
  },
  {
   "cell_type": "markdown",
   "id": "84e2f92a-d01c-44e3-b729-ef6612bbaf75",
   "metadata": {},
   "source": [
    "# 특성 중요도"
   ]
  },
  {
   "cell_type": "code",
   "execution_count": 45,
   "id": "5062cbc3-6749-41fb-89c1-3e07a3dfd6fb",
   "metadata": {},
   "outputs": [
    {
     "data": {
      "image/png": "[encoded data removed]",
      "text/plain": [
       "<Figure size 432x288 with 1 Axes>"
      ]
     },
     "metadata": {},
     "output_type": "display_data"
    }
   ],
   "source": [
    "def plot_feature_importance(model):\n",
    "    n_features = X_test.shape[1]\n",
    "    plt.barh(np.arange(n_features), sorted(model.feature_importances_), align=\"center\")\n",
    "    plt.yticks(np.arange(n_features), X_test.columns)\n",
    "    plt.xlabel(\"Random Forest Feature Importance\")\n",
    "    plt.ylabel(\"Feature\")\n",
    "    plt.ylim(-1, n_features)\n",
    "    \n",
    "plot_feature_importance(rf_reg)"
   ]
  },
  {
   "cell_type": "markdown",
   "id": "27b58b77-64a0-44a4-bbf8-ace814d3f10e",
   "metadata": {},
   "source": [
    "# 파일 제출"
   ]
  },
  {
   "cell_type": "code",
   "execution_count": 27,
   "id": "68531a1a-38f4-499b-a616-7b827c229b34",
   "metadata": {},
   "outputs": [],
   "source": [
    "submission['count'] = pred"
   ]
  },
  {
   "cell_type": "code",
   "execution_count": 28,
   "id": "f77419bb-4e9a-45e5-a735-f75a024e0d8a",
   "metadata": {},
   "outputs": [],
   "source": [
    "# 예외처리\n",
    "\n",
    "# submission['count'] = np.where(submission['count'] <0 , submission['count'].mean() , submission['count'])"
   ]
  },
  {
   "cell_type": "code",
   "execution_count": 29,
   "id": "74112f94-9bc5-4511-b3c6-2c283fc56174",
   "metadata": {},
   "outputs": [],
   "source": [
    "submission.to_csv('data/baseline5.csv', index=False)"
   ]
  },
  {
   "cell_type": "code",
   "execution_count": 34,
   "id": "c897f49c-56d8-4424-9b22-26c896521c5e",
   "metadata": {},
   "outputs": [
    {
     "data": {
      "text/html": [
       "<div>\n",
       "<style scoped>\n",
       "    .dataframe tbody tr th:only-of-type {\n",
       "        vertical-align: middle;\n",
       "    }\n",
       "\n",
       "    .dataframe tbody tr th {\n",
       "        vertical-align: top;\n",
       "    }\n",
       "\n",
       "    .dataframe thead th {\n",
       "        text-align: right;\n",
       "    }\n",
       "</style>\n",
       "<table border=\"1\" class=\"dataframe\">\n",
       "  <thead>\n",
       "    <tr style=\"text-align: right;\">\n",
       "      <th></th>\n",
       "      <th>datetime</th>\n",
       "      <th>count</th>\n",
       "    </tr>\n",
       "  </thead>\n",
       "  <tbody>\n",
       "  </tbody>\n",
       "</table>\n",
       "</div>"
      ],
      "text/plain": [
       "Empty DataFrame\n",
       "Columns: [datetime, count]\n",
       "Index: []"
      ]
     },
     "execution_count": 34,
     "metadata": {},
     "output_type": "execute_result"
    }
   ],
   "source": [
    "submission[submission['count'] < 0]"
   ]
  }
 ],
 "metadata": {
  "kernelspec": {
   "display_name": "Python 3 (ipykernel)",
   "language": "python",
   "name": "python3"
  },
  "language_info": {
   "codemirror_mode": {
    "name": "ipython",
    "version": 3
   },
   "file_extension": ".py",
   "mimetype": "text/x-python",
   "name": "python",
   "nbconvert_exporter": "python",
   "pygments_lexer": "ipython3",
   "version": "3.9.12"
  }
 },
 "nbformat": 4,
 "nbformat_minor": 5
}
